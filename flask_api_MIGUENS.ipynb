{
 "cells": [
  {
   "cell_type": "code",
   "execution_count": null,
   "id": "bf0926a5",
   "metadata": {},
   "outputs": [],
   "source": [
    "from flask import Flask, request, jsonify\n",
    "import joblib\n",
    "import numpy as np\n",
    "\n",
    "# aplicación Flask\n",
    "app = Flask(__name__)\n",
    "\n",
    "# cargo el modelo guardado\n",
    "model = joblib.load('random_forest_model.joblib')\n",
    "\n",
    "# endpoint para realizar predicciones\n",
    "@app.route('/predict', methods=['POST'])\n",
    "def predict():\n",
    "    # obtengo los datos de la solicitud\n",
    "    data = request.get_json()  # JSON con los datos de entrada\n",
    "    features = np.array(data['features']).reshape(1, -1)\n",
    "    \n",
    "    # prediccion\n",
    "    prediction = model.predict(features)\n",
    "    \n",
    "    # prediccin como respuesta\n",
    "    return jsonify({'prediction': prediction.tolist()})\n",
    "\n",
    "if __name__ == '__main__':\n",
    "    app.run(debug=True)\n"
   ]
  }
 ],
 "metadata": {
  "kernelspec": {
   "display_name": "Python 3 (ipykernel)",
   "language": "python",
   "name": "python3"
  },
  "language_info": {
   "codemirror_mode": {
    "name": "ipython",
    "version": 3
   },
   "file_extension": ".py",
   "mimetype": "text/x-python",
   "name": "python",
   "nbconvert_exporter": "python",
   "pygments_lexer": "ipython3",
   "version": "3.11.4"
  }
 },
 "nbformat": 4,
 "nbformat_minor": 5
}
